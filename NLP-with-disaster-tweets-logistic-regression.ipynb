{
 "cells": [
  {
   "cell_type": "markdown",
   "id": "f7b17d8c",
   "metadata": {},
   "source": [
    "# NLP with DISASTER TWEETS \"Logistic Regression\""
   ]
  },
  {
   "cell_type": "markdown",
   "id": "206a396c",
   "metadata": {},
   "source": [
    "Name: NAMBIRAJAN R S<br>Roll NO: 215229125"
   ]
  },
  {
   "cell_type": "markdown",
   "id": "d1dd48f1",
   "metadata": {
    "papermill": {
     "duration": 0.040572,
     "end_time": "2022-04-18T04:33:23.259551",
     "exception": false,
     "start_time": "2022-04-18T04:33:23.218979",
     "status": "completed"
    },
    "tags": []
   },
   "source": [
    "### IMPORT LIBRARIES AND DATASET"
   ]
  },
  {
   "cell_type": "code",
   "execution_count": 34,
   "id": "c2706cea",
   "metadata": {
    "execution": {
     "iopub.execute_input": "2022-04-18T04:33:23.345770Z",
     "iopub.status.busy": "2022-04-18T04:33:23.345371Z",
     "iopub.status.idle": "2022-04-18T04:33:24.533128Z",
     "shell.execute_reply": "2022-04-18T04:33:24.532202Z"
    },
    "papermill": {
     "duration": 1.234798,
     "end_time": "2022-04-18T04:33:24.535755",
     "exception": false,
     "start_time": "2022-04-18T04:33:23.300957",
     "status": "completed"
    },
    "tags": []
   },
   "outputs": [],
   "source": [
    "import numpy as np\n",
    "import pandas as pd\n",
    "import seaborn as sns\n",
    "import matplotlib.pyplot as plt\n",
    "import re\n",
    "import string\n",
    "import warnings\n",
    "warnings.filterwarnings(\"ignore\")"
   ]
  },
  {
   "cell_type": "code",
   "execution_count": 35,
   "id": "0cba7872",
   "metadata": {
    "execution": {
     "iopub.execute_input": "2022-04-18T04:33:24.622300Z",
     "iopub.status.busy": "2022-04-18T04:33:24.622015Z",
     "iopub.status.idle": "2022-04-18T04:33:24.685781Z",
     "shell.execute_reply": "2022-04-18T04:33:24.684840Z"
    },
    "papermill": {
     "duration": 0.10855,
     "end_time": "2022-04-18T04:33:24.688075",
     "exception": false,
     "start_time": "2022-04-18T04:33:24.579525",
     "status": "completed"
    },
    "tags": []
   },
   "outputs": [
    {
     "data": {
      "text/html": [
       "<div>\n",
       "<style scoped>\n",
       "    .dataframe tbody tr th:only-of-type {\n",
       "        vertical-align: middle;\n",
       "    }\n",
       "\n",
       "    .dataframe tbody tr th {\n",
       "        vertical-align: top;\n",
       "    }\n",
       "\n",
       "    .dataframe thead th {\n",
       "        text-align: right;\n",
       "    }\n",
       "</style>\n",
       "<table border=\"1\" class=\"dataframe\">\n",
       "  <thead>\n",
       "    <tr style=\"text-align: right;\">\n",
       "      <th></th>\n",
       "      <th>id</th>\n",
       "      <th>keyword</th>\n",
       "      <th>location</th>\n",
       "      <th>text</th>\n",
       "      <th>target</th>\n",
       "    </tr>\n",
       "  </thead>\n",
       "  <tbody>\n",
       "    <tr>\n",
       "      <th>0</th>\n",
       "      <td>1</td>\n",
       "      <td>NaN</td>\n",
       "      <td>NaN</td>\n",
       "      <td>Our Deeds are the Reason of this #earthquake M...</td>\n",
       "      <td>1</td>\n",
       "    </tr>\n",
       "    <tr>\n",
       "      <th>1</th>\n",
       "      <td>4</td>\n",
       "      <td>NaN</td>\n",
       "      <td>NaN</td>\n",
       "      <td>Forest fire near La Ronge Sask. Canada</td>\n",
       "      <td>1</td>\n",
       "    </tr>\n",
       "    <tr>\n",
       "      <th>2</th>\n",
       "      <td>5</td>\n",
       "      <td>NaN</td>\n",
       "      <td>NaN</td>\n",
       "      <td>All residents asked to 'shelter in place' are ...</td>\n",
       "      <td>1</td>\n",
       "    </tr>\n",
       "    <tr>\n",
       "      <th>3</th>\n",
       "      <td>6</td>\n",
       "      <td>NaN</td>\n",
       "      <td>NaN</td>\n",
       "      <td>13,000 people receive #wildfires evacuation or...</td>\n",
       "      <td>1</td>\n",
       "    </tr>\n",
       "    <tr>\n",
       "      <th>4</th>\n",
       "      <td>7</td>\n",
       "      <td>NaN</td>\n",
       "      <td>NaN</td>\n",
       "      <td>Just got sent this photo from Ruby #Alaska as ...</td>\n",
       "      <td>1</td>\n",
       "    </tr>\n",
       "  </tbody>\n",
       "</table>\n",
       "</div>"
      ],
      "text/plain": [
       "   id keyword location                                               text  \\\n",
       "0   1     NaN      NaN  Our Deeds are the Reason of this #earthquake M...   \n",
       "1   4     NaN      NaN             Forest fire near La Ronge Sask. Canada   \n",
       "2   5     NaN      NaN  All residents asked to 'shelter in place' are ...   \n",
       "3   6     NaN      NaN  13,000 people receive #wildfires evacuation or...   \n",
       "4   7     NaN      NaN  Just got sent this photo from Ruby #Alaska as ...   \n",
       "\n",
       "   target  \n",
       "0       1  \n",
       "1       1  \n",
       "2       1  \n",
       "3       1  \n",
       "4       1  "
      ]
     },
     "execution_count": 35,
     "metadata": {},
     "output_type": "execute_result"
    }
   ],
   "source": [
    "train_df = pd.read_csv('train.csv')\n",
    "train_df.head()"
   ]
  },
  {
   "cell_type": "code",
   "execution_count": 36,
   "id": "6db52039",
   "metadata": {
    "execution": {
     "iopub.execute_input": "2022-04-18T04:33:24.775075Z",
     "iopub.status.busy": "2022-04-18T04:33:24.774737Z",
     "iopub.status.idle": "2022-04-18T04:33:24.805357Z",
     "shell.execute_reply": "2022-04-18T04:33:24.804475Z"
    },
    "papermill": {
     "duration": 0.076543,
     "end_time": "2022-04-18T04:33:24.807531",
     "exception": false,
     "start_time": "2022-04-18T04:33:24.730988",
     "status": "completed"
    },
    "tags": []
   },
   "outputs": [
    {
     "data": {
      "text/html": [
       "<div>\n",
       "<style scoped>\n",
       "    .dataframe tbody tr th:only-of-type {\n",
       "        vertical-align: middle;\n",
       "    }\n",
       "\n",
       "    .dataframe tbody tr th {\n",
       "        vertical-align: top;\n",
       "    }\n",
       "\n",
       "    .dataframe thead th {\n",
       "        text-align: right;\n",
       "    }\n",
       "</style>\n",
       "<table border=\"1\" class=\"dataframe\">\n",
       "  <thead>\n",
       "    <tr style=\"text-align: right;\">\n",
       "      <th></th>\n",
       "      <th>id</th>\n",
       "      <th>keyword</th>\n",
       "      <th>location</th>\n",
       "      <th>text</th>\n",
       "    </tr>\n",
       "  </thead>\n",
       "  <tbody>\n",
       "    <tr>\n",
       "      <th>0</th>\n",
       "      <td>0</td>\n",
       "      <td>NaN</td>\n",
       "      <td>NaN</td>\n",
       "      <td>Just happened a terrible car crash</td>\n",
       "    </tr>\n",
       "    <tr>\n",
       "      <th>1</th>\n",
       "      <td>2</td>\n",
       "      <td>NaN</td>\n",
       "      <td>NaN</td>\n",
       "      <td>Heard about #earthquake is different cities, s...</td>\n",
       "    </tr>\n",
       "    <tr>\n",
       "      <th>2</th>\n",
       "      <td>3</td>\n",
       "      <td>NaN</td>\n",
       "      <td>NaN</td>\n",
       "      <td>there is a forest fire at spot pond, geese are...</td>\n",
       "    </tr>\n",
       "    <tr>\n",
       "      <th>3</th>\n",
       "      <td>9</td>\n",
       "      <td>NaN</td>\n",
       "      <td>NaN</td>\n",
       "      <td>Apocalypse lighting. #Spokane #wildfires</td>\n",
       "    </tr>\n",
       "    <tr>\n",
       "      <th>4</th>\n",
       "      <td>11</td>\n",
       "      <td>NaN</td>\n",
       "      <td>NaN</td>\n",
       "      <td>Typhoon Soudelor kills 28 in China and Taiwan</td>\n",
       "    </tr>\n",
       "  </tbody>\n",
       "</table>\n",
       "</div>"
      ],
      "text/plain": [
       "   id keyword location                                               text\n",
       "0   0     NaN      NaN                 Just happened a terrible car crash\n",
       "1   2     NaN      NaN  Heard about #earthquake is different cities, s...\n",
       "2   3     NaN      NaN  there is a forest fire at spot pond, geese are...\n",
       "3   9     NaN      NaN           Apocalypse lighting. #Spokane #wildfires\n",
       "4  11     NaN      NaN      Typhoon Soudelor kills 28 in China and Taiwan"
      ]
     },
     "execution_count": 36,
     "metadata": {},
     "output_type": "execute_result"
    }
   ],
   "source": [
    "test_df = pd.read_csv('test.csv')\n",
    "test_df.head()"
   ]
  },
  {
   "cell_type": "markdown",
   "id": "de15bbf1",
   "metadata": {
    "papermill": {
     "duration": 0.044627,
     "end_time": "2022-04-18T04:33:24.894913",
     "exception": false,
     "start_time": "2022-04-18T04:33:24.850286",
     "status": "completed"
    },
    "tags": []
   },
   "source": [
    "### EXPLORATORY DATA ANALYSIS"
   ]
  },
  {
   "cell_type": "code",
   "execution_count": 37,
   "id": "738e86db",
   "metadata": {
    "execution": {
     "iopub.execute_input": "2022-04-18T04:33:24.983351Z",
     "iopub.status.busy": "2022-04-18T04:33:24.982501Z",
     "iopub.status.idle": "2022-04-18T04:33:25.203693Z",
     "shell.execute_reply": "2022-04-18T04:33:25.202744Z"
    },
    "papermill": {
     "duration": 0.268455,
     "end_time": "2022-04-18T04:33:25.206125",
     "exception": false,
     "start_time": "2022-04-18T04:33:24.937670",
     "status": "completed"
    },
    "tags": []
   },
   "outputs": [
    {
     "data": {
      "text/plain": [
       "<AxesSubplot:xlabel='count', ylabel='target'>"
      ]
     },
     "execution_count": 37,
     "metadata": {},
     "output_type": "execute_result"
    },
    {
     "data": {
      "image/png": "[encoded data removed]",
      "text/plain": [
       "<Figure size 432x288 with 1 Axes>"
      ]
     },
     "metadata": {
      "needs_background": "light"
     },
     "output_type": "display_data"
    }
   ],
   "source": [
    "sns.countplot (y = 'target', data =train_df)"
   ]
  },
  {
   "cell_type": "code",
   "execution_count": 38,
   "id": "d4c1f5a7",
   "metadata": {
    "execution": {
     "iopub.execute_input": "2022-04-18T04:33:25.297502Z",
     "iopub.status.busy": "2022-04-18T04:33:25.297179Z",
     "iopub.status.idle": "2022-04-18T04:33:25.637154Z",
     "shell.execute_reply": "2022-04-18T04:33:25.636196Z"
    },
    "papermill": {
     "duration": 0.387557,
     "end_time": "2022-04-18T04:33:25.639572",
     "exception": false,
     "start_time": "2022-04-18T04:33:25.252015",
     "status": "completed"
    },
    "tags": []
   },
   "outputs": [
    {
     "data": {
      "image/png": "[encoded data removed]",
      "text/plain": [
       "<Figure size 720x360 with 2 Axes>"
      ]
     },
     "metadata": {
      "needs_background": "light"
     },
     "output_type": "display_data"
    }
   ],
   "source": [
    "fig,(ax1,ax2)=plt.subplots(1,2,figsize=(10,5))\n",
    "tweet_len=train_df[train_df['target']==1]['text'].str.len()\n",
    "ax1.hist(tweet_len,color='red')\n",
    "ax1.set_title('disaster tweets')\n",
    "tweet_len=train_df[train_df['target']==0]['text'].str.len()\n",
    "ax2.hist(tweet_len,color='green')\n",
    "ax2.set_title('Not disaster tweets')\n",
    "fig.suptitle('Characters in tweets')\n",
    "plt.show()"
   ]
  },
  {
   "cell_type": "markdown",
   "id": "26902496",
   "metadata": {
    "papermill": {
     "duration": 0.043781,
     "end_time": "2022-04-18T04:33:25.728335",
     "exception": false,
     "start_time": "2022-04-18T04:33:25.684554",
     "status": "completed"
    },
    "tags": []
   },
   "source": [
    "### TEXT CLEANING"
   ]
  },
  {
   "cell_type": "code",
   "execution_count": 39,
   "id": "fdf0bd68",
   "metadata": {
    "execution": {
     "iopub.execute_input": "2022-04-18T04:33:25.821042Z",
     "iopub.status.busy": "2022-04-18T04:33:25.819709Z",
     "iopub.status.idle": "2022-04-18T04:33:25.833692Z",
     "shell.execute_reply": "2022-04-18T04:33:25.832961Z"
    },
    "papermill": {
     "duration": 0.062028,
     "end_time": "2022-04-18T04:33:25.835981",
     "exception": false,
     "start_time": "2022-04-18T04:33:25.773953",
     "status": "completed"
    },
    "tags": []
   },
   "outputs": [],
   "source": [
    "# LOWERCASE REMOVAL\n",
    "\n",
    "train_df[\"text_clean\"] = train_df[\"text\"].apply(lambda x: x.lower())\n",
    "test_df[\"text_clean\"] = test_df[\"text\"].apply(lambda x: x.lower())"
   ]
  },
  {
   "cell_type": "code",
   "execution_count": 40,
   "id": "42fa5ef9",
   "metadata": {
    "execution": {
     "iopub.execute_input": "2022-04-18T04:33:25.929016Z",
     "iopub.status.busy": "2022-04-18T04:33:25.928456Z",
     "iopub.status.idle": "2022-04-18T04:33:26.070317Z",
     "shell.execute_reply": "2022-04-18T04:33:26.069496Z"
    },
    "papermill": {
     "duration": 0.191057,
     "end_time": "2022-04-18T04:33:26.072724",
     "exception": false,
     "start_time": "2022-04-18T04:33:25.881667",
     "status": "completed"
    },
    "tags": []
   },
   "outputs": [],
   "source": [
    "# SPECIAL CHARACTER REMOVAL\n",
    "\n",
    "train_df['text']= train_df['text'].str.replace('rt ',\"\").str.replace('@','').str.replace('#','').str.replace('[^\\w\\s]','').str.replace('[1-9]','')\n",
    "test_df['text']= test_df['text'].str.replace('rt ',\"\").str.replace('@','').str.replace('#','').str.replace('[^\\w\\s]','').str.replace('[1-9]','')\n"
   ]
  },
  {
   "cell_type": "code",
   "execution_count": 41,
   "id": "9c14f56a",
   "metadata": {
    "execution": {
     "iopub.execute_input": "2022-04-18T04:33:26.164656Z",
     "iopub.status.busy": "2022-04-18T04:33:26.164200Z",
     "iopub.status.idle": "2022-04-18T04:33:26.221414Z",
     "shell.execute_reply": "2022-04-18T04:33:26.220661Z"
    },
    "papermill": {
     "duration": 0.106683,
     "end_time": "2022-04-18T04:33:26.223890",
     "exception": false,
     "start_time": "2022-04-18T04:33:26.117207",
     "status": "completed"
    },
    "tags": []
   },
   "outputs": [],
   "source": [
    "# REMOVE URL\n",
    "\n",
    "def remove_URL(text):\n",
    "    return re.sub(r\"https?://\\S+|www\\.\\S+\", \"\", text)\n",
    "\n",
    "train_df[\"text_clean\"] = train_df[\"text_clean\"].apply(lambda x: remove_URL(x))\n",
    "test_df[\"text_clean\"] = test_df[\"text_clean\"].apply(lambda x: remove_URL(x))"
   ]
  },
  {
   "cell_type": "code",
   "execution_count": 42,
   "id": "4c9fdca2",
   "metadata": {
    "execution": {
     "iopub.execute_input": "2022-04-18T04:33:26.313787Z",
     "iopub.status.busy": "2022-04-18T04:33:26.313489Z",
     "iopub.status.idle": "2022-04-18T04:33:26.382673Z",
     "shell.execute_reply": "2022-04-18T04:33:26.381793Z"
    },
    "papermill": {
     "duration": 0.11726,
     "end_time": "2022-04-18T04:33:26.385090",
     "exception": false,
     "start_time": "2022-04-18T04:33:26.267830",
     "status": "completed"
    },
    "tags": []
   },
   "outputs": [],
   "source": [
    "# REMOVE HTML\n",
    "\n",
    "def remove_html(text):\n",
    "    html = re.compile(r\"<.*?>|&([a-z0-9]+|#[0-9]{1,6}|#x[0-9a-f]{1,6});\")\n",
    "    return re.sub(html, \"\", text)\n",
    "\n",
    "train_df[\"text_clean\"] = train_df[\"text_clean\"].apply(lambda x: remove_html(x))\n",
    "test_df[\"text_clean\"] = test_df[\"text_clean\"].apply(lambda x: remove_html(x))"
   ]
  },
  {
   "cell_type": "code",
   "execution_count": 43,
   "id": "02eb149a",
   "metadata": {
    "execution": {
     "iopub.execute_input": "2022-04-18T04:33:26.476493Z",
     "iopub.status.busy": "2022-04-18T04:33:26.475642Z",
     "iopub.status.idle": "2022-04-18T04:33:26.574141Z",
     "shell.execute_reply": "2022-04-18T04:33:26.573201Z"
    },
    "papermill": {
     "duration": 0.146318,
     "end_time": "2022-04-18T04:33:26.576633",
     "exception": false,
     "start_time": "2022-04-18T04:33:26.430315",
     "status": "completed"
    },
    "tags": []
   },
   "outputs": [],
   "source": [
    "# REMOVE EMOJIS\n",
    "\n",
    "def remove_emojis(text):\n",
    "    emoji_pattern = re.compile(\n",
    "        '['\n",
    "        u'\\U0001F600-\\U0001F64F'  # emoticons\n",
    "        u'\\U0001F300-\\U0001F5FF'  # symbols & pictographs\n",
    "        u'\\U0001F680-\\U0001F6FF'  # transport & map symbols\n",
    "        u'\\U0001F1E0-\\U0001F1FF'  # flags (iOS)\n",
    "        u'\\U00002702-\\U000027B0'\n",
    "        u'\\U000024C2-\\U0001F251'\n",
    "        ']+',\n",
    "        flags=re.UNICODE)\n",
    "    return emoji_pattern.sub(r'', text)\n",
    "\n",
    "train_df[\"text_clean\"] = train_df[\"text_clean\"].apply(lambda x: remove_emojis(x))\n",
    "test_df[\"text_clean\"] = test_df[\"text_clean\"].apply(lambda x: remove_emojis(x))"
   ]
  },
  {
   "cell_type": "code",
   "execution_count": 44,
   "id": "b3d5a196",
   "metadata": {
    "execution": {
     "iopub.execute_input": "2022-04-18T04:33:26.667368Z",
     "iopub.status.busy": "2022-04-18T04:33:26.666756Z",
     "iopub.status.idle": "2022-04-18T04:33:26.735569Z",
     "shell.execute_reply": "2022-04-18T04:33:26.734663Z"
    },
    "papermill": {
     "duration": 0.116778,
     "end_time": "2022-04-18T04:33:26.737930",
     "exception": false,
     "start_time": "2022-04-18T04:33:26.621152",
     "status": "completed"
    },
    "tags": []
   },
   "outputs": [],
   "source": [
    "# REMOVE PUNCTUATION\n",
    "\n",
    "def remove_punct(text):\n",
    "    return text.translate(str.maketrans('', '', string.punctuation))\n",
    "\n",
    "\n",
    "train_df[\"text_clean\"] = train_df[\"text_clean\"].apply(lambda x: remove_punct(x))\n",
    "test_df[\"text_clean\"] = test_df[\"text_clean\"].apply(lambda x: remove_punct(x))\n"
   ]
  },
  {
   "cell_type": "code",
   "execution_count": 45,
   "id": "77085ae8",
   "metadata": {
    "execution": {
     "iopub.execute_input": "2022-04-18T04:33:26.831929Z",
     "iopub.status.busy": "2022-04-18T04:33:26.831609Z",
     "iopub.status.idle": "2022-04-18T04:33:26.877957Z",
     "shell.execute_reply": "2022-04-18T04:33:26.876602Z"
    },
    "papermill": {
     "duration": 0.097355,
     "end_time": "2022-04-18T04:33:26.880416",
     "exception": false,
     "start_time": "2022-04-18T04:33:26.783061",
     "status": "completed"
    },
    "tags": []
   },
   "outputs": [],
   "source": [
    "# REMOVAL OF NON-ASCII VALUES\n",
    "\n",
    "def remove_non_ascii(text):\n",
    "    return re.sub(r'[^\\x00-\\x7f]',r'', text)\n",
    "\n",
    "train_df[\"text_clean\"] = train_df[\"text_clean\"].apply(lambda x: remove_non_ascii(x))\n",
    "test_df[\"text_clean\"] = test_df[\"text_clean\"].apply(lambda x: remove_non_ascii(x))\n"
   ]
  },
  {
   "cell_type": "code",
   "execution_count": 46,
   "id": "840e2424",
   "metadata": {},
   "outputs": [
    {
     "name": "stderr",
     "output_type": "stream",
     "text": [
      "[nltk_data] Downloading package stopwords to\n",
      "[nltk_data]     C:\\Users\\ELCOT\\AppData\\Roaming\\nltk_data...\n",
      "[nltk_data]   Package stopwords is already up-to-date!\n",
      "[nltk_data] Downloading package wordnet to\n",
      "[nltk_data]     C:\\Users\\ELCOT\\AppData\\Roaming\\nltk_data...\n",
      "[nltk_data]   Package wordnet is already up-to-date!\n"
     ]
    },
    {
     "data": {
      "text/plain": [
       "True"
      ]
     },
     "execution_count": 46,
     "metadata": {},
     "output_type": "execute_result"
    }
   ],
   "source": [
    "import nltk\n",
    "nltk.download('stopwords')\n",
    "nltk.download('wordnet')"
   ]
  },
  {
   "cell_type": "code",
   "execution_count": 47,
   "id": "258d0f28",
   "metadata": {
    "execution": {
     "iopub.execute_input": "2022-04-18T04:33:28.062480Z",
     "iopub.status.busy": "2022-04-18T04:33:28.062172Z",
     "iopub.status.idle": "2022-04-18T04:33:28.135649Z",
     "shell.execute_reply": "2022-04-18T04:33:28.134774Z"
    },
    "papermill": {
     "duration": 0.123864,
     "end_time": "2022-04-18T04:33:28.138117",
     "exception": false,
     "start_time": "2022-04-18T04:33:28.014253",
     "status": "completed"
    },
    "tags": []
   },
   "outputs": [],
   "source": [
    "# STOP WORDS REMOVAL\n",
    "\n",
    "from nltk.corpus import stopwords\n",
    "stop_words = set(stopwords.words('english'))\n",
    "\n",
    "train_df['text'] = train_df['text'].apply(lambda x: ' '.join(term for term in x.split() if term not in stop_words))\n",
    "test_df['text'] = train_df['text'].apply(lambda x: ' '.join(term for term in x.split() if term not in stop_words))\n"
   ]
  },
  {
   "cell_type": "markdown",
   "id": "45bb0f64",
   "metadata": {
    "papermill": {
     "duration": 0.04414,
     "end_time": "2022-04-18T04:33:28.227701",
     "exception": false,
     "start_time": "2022-04-18T04:33:28.183561",
     "status": "completed"
    },
    "tags": []
   },
   "source": [
    "### PREPROCESSING"
   ]
  },
  {
   "cell_type": "markdown",
   "id": "8da2d074",
   "metadata": {
    "papermill": {
     "duration": 0.044424,
     "end_time": "2022-04-18T04:33:28.317520",
     "exception": false,
     "start_time": "2022-04-18T04:33:28.273096",
     "status": "completed"
    },
    "tags": []
   },
   "source": [
    "#### FILLING MISSING VALUES"
   ]
  },
  {
   "cell_type": "code",
   "execution_count": 48,
   "id": "8530fa07",
   "metadata": {
    "execution": {
     "iopub.execute_input": "2022-04-18T04:33:28.409219Z",
     "iopub.status.busy": "2022-04-18T04:33:28.408914Z",
     "iopub.status.idle": "2022-04-18T04:33:28.421172Z",
     "shell.execute_reply": "2022-04-18T04:33:28.420453Z"
    },
    "papermill": {
     "duration": 0.060524,
     "end_time": "2022-04-18T04:33:28.423060",
     "exception": false,
     "start_time": "2022-04-18T04:33:28.362536",
     "status": "completed"
    },
    "tags": []
   },
   "outputs": [
    {
     "data": {
      "text/plain": [
       "id               0\n",
       "keyword         61\n",
       "location      2533\n",
       "text             0\n",
       "target           0\n",
       "text_clean       0\n",
       "dtype: int64"
      ]
     },
     "execution_count": 48,
     "metadata": {},
     "output_type": "execute_result"
    }
   ],
   "source": [
    "train_df.isnull().sum()"
   ]
  },
  {
   "cell_type": "code",
   "execution_count": 49,
   "id": "ac136ea4",
   "metadata": {
    "execution": {
     "iopub.execute_input": "2022-04-18T04:33:28.517637Z",
     "iopub.status.busy": "2022-04-18T04:33:28.516999Z",
     "iopub.status.idle": "2022-04-18T04:33:28.526653Z",
     "shell.execute_reply": "2022-04-18T04:33:28.525934Z"
    },
    "papermill": {
     "duration": 0.059382,
     "end_time": "2022-04-18T04:33:28.528788",
     "exception": false,
     "start_time": "2022-04-18T04:33:28.469406",
     "status": "completed"
    },
    "tags": []
   },
   "outputs": [
    {
     "data": {
      "text/plain": [
       "id               0\n",
       "keyword         26\n",
       "location      1105\n",
       "text             0\n",
       "text_clean       0\n",
       "dtype: int64"
      ]
     },
     "execution_count": 49,
     "metadata": {},
     "output_type": "execute_result"
    }
   ],
   "source": [
    "test_df.isnull().sum()"
   ]
  },
  {
   "cell_type": "code",
   "execution_count": 50,
   "id": "a690e416",
   "metadata": {
    "execution": {
     "iopub.execute_input": "2022-04-18T04:33:28.627929Z",
     "iopub.status.busy": "2022-04-18T04:33:28.627287Z",
     "iopub.status.idle": "2022-04-18T04:33:28.637306Z",
     "shell.execute_reply": "2022-04-18T04:33:28.636472Z"
    },
    "papermill": {
     "duration": 0.063245,
     "end_time": "2022-04-18T04:33:28.639555",
     "exception": false,
     "start_time": "2022-04-18T04:33:28.576310",
     "status": "completed"
    },
    "tags": []
   },
   "outputs": [],
   "source": [
    "train_df['location'] = train_df['location'].fillna('None')\n",
    "train_df['keyword'] = train_df['keyword'].fillna('None')\n",
    "test_df['location'] = test_df['location'].fillna('None')\n",
    "test_df['keyword'] = test_df['keyword'].fillna('None')"
   ]
  },
  {
   "cell_type": "markdown",
   "id": "89b4f37f",
   "metadata": {
    "papermill": {
     "duration": 0.045222,
     "end_time": "2022-04-18T04:33:28.730035",
     "exception": false,
     "start_time": "2022-04-18T04:33:28.684813",
     "status": "completed"
    },
    "tags": []
   },
   "source": [
    "### DROP OF UNNESSESSARY FEATURE"
   ]
  },
  {
   "cell_type": "code",
   "execution_count": 51,
   "id": "f5391367",
   "metadata": {
    "execution": {
     "iopub.execute_input": "2022-04-18T04:33:28.825636Z",
     "iopub.status.busy": "2022-04-18T04:33:28.825043Z",
     "iopub.status.idle": "2022-04-18T04:33:28.835467Z",
     "shell.execute_reply": "2022-04-18T04:33:28.834726Z"
    },
    "papermill": {
     "duration": 0.060318,
     "end_time": "2022-04-18T04:33:28.837821",
     "exception": false,
     "start_time": "2022-04-18T04:33:28.777503",
     "status": "completed"
    },
    "tags": []
   },
   "outputs": [],
   "source": [
    "train_df = train_df.drop('id', axis=1)\n",
    "test_df = test_df.drop('id', axis=1)"
   ]
  },
  {
   "cell_type": "markdown",
   "id": "2edff1c9",
   "metadata": {
    "papermill": {
     "duration": 0.046995,
     "end_time": "2022-04-18T04:33:28.932378",
     "exception": false,
     "start_time": "2022-04-18T04:33:28.885383",
     "status": "completed"
    },
    "tags": []
   },
   "source": [
    "### TOKENIZATION"
   ]
  },
  {
   "cell_type": "code",
   "execution_count": 52,
   "id": "08eb9048",
   "metadata": {
    "execution": {
     "iopub.execute_input": "2022-04-18T04:33:29.029784Z",
     "iopub.status.busy": "2022-04-18T04:33:29.029331Z",
     "iopub.status.idle": "2022-04-18T04:33:30.095598Z",
     "shell.execute_reply": "2022-04-18T04:33:30.094957Z"
    },
    "papermill": {
     "duration": 1.118279,
     "end_time": "2022-04-18T04:33:30.098178",
     "exception": false,
     "start_time": "2022-04-18T04:33:28.979899",
     "status": "completed"
    },
    "tags": []
   },
   "outputs": [],
   "source": [
    "# TOKENIZATION\n",
    "\n",
    "import nltk\n",
    "from nltk import TweetTokenizer\n",
    "\n",
    "tokenizer = TweetTokenizer()\n",
    "\n",
    "train_df['tokens'] = [tokenizer.tokenize(item) for item in train_df.text]\n",
    "test_df['tokens'] = [tokenizer.tokenize(item) for item in test_df.text]"
   ]
  },
  {
   "cell_type": "markdown",
   "id": "55e0c43e",
   "metadata": {
    "papermill": {
     "duration": 0.044969,
     "end_time": "2022-04-18T04:33:30.190856",
     "exception": false,
     "start_time": "2022-04-18T04:33:30.145887",
     "status": "completed"
    },
    "tags": []
   },
   "source": [
    "### Lemmatization"
   ]
  },
  {
   "cell_type": "code",
   "execution_count": 53,
   "id": "7eef555d",
   "metadata": {
    "execution": {
     "iopub.execute_input": "2022-04-18T04:33:30.285368Z",
     "iopub.status.busy": "2022-04-18T04:33:30.284938Z",
     "iopub.status.idle": "2022-04-18T04:33:33.002040Z",
     "shell.execute_reply": "2022-04-18T04:33:33.001091Z"
    },
    "papermill": {
     "duration": 2.766743,
     "end_time": "2022-04-18T04:33:33.004637",
     "exception": false,
     "start_time": "2022-04-18T04:33:30.237894",
     "status": "completed"
    },
    "tags": []
   },
   "outputs": [],
   "source": [
    "# LEMMATION\n",
    "\n",
    "from nltk.stem import WordNetLemmatizer\n",
    "\n",
    "lemmatizer = WordNetLemmatizer()\n",
    "\n",
    "def lemmatize_item(item):\n",
    "    new_item = []\n",
    "    for x in item:\n",
    "        x = lemmatizer.lemmatize(x)\n",
    "        new_item.append(x)\n",
    "    return \" \".join(new_item)\n",
    "\n",
    "train_df['tokens'] = [lemmatize_item(item) for item in train_df.tokens]\n",
    "test_df['tokens'] = [lemmatize_item(item) for item in test_df.tokens]"
   ]
  },
  {
   "cell_type": "markdown",
   "id": "9b6a1e49",
   "metadata": {
    "papermill": {
     "duration": 0.045453,
     "end_time": "2022-04-18T04:33:33.096026",
     "exception": false,
     "start_time": "2022-04-18T04:33:33.050573",
     "status": "completed"
    },
    "tags": []
   },
   "source": [
    "### VECTORIZATION"
   ]
  },
  {
   "cell_type": "code",
   "execution_count": 54,
   "id": "9f7816d0",
   "metadata": {
    "execution": {
     "iopub.execute_input": "2022-04-18T04:33:33.192546Z",
     "iopub.status.busy": "2022-04-18T04:33:33.192272Z",
     "iopub.status.idle": "2022-04-18T04:33:33.564230Z",
     "shell.execute_reply": "2022-04-18T04:33:33.562980Z"
    },
    "papermill": {
     "duration": 0.425213,
     "end_time": "2022-04-18T04:33:33.566746",
     "exception": false,
     "start_time": "2022-04-18T04:33:33.141533",
     "status": "completed"
    },
    "tags": []
   },
   "outputs": [],
   "source": [
    "# VECTORIZATION\n",
    "\n",
    "from sklearn.feature_extraction.text import CountVectorizer\n",
    "\n",
    "vectorizer = CountVectorizer()\n",
    "\n",
    "\n",
    "X = vectorizer.fit_transform(train_df.text).toarray()\n",
    "y = train_df['target']"
   ]
  },
  {
   "cell_type": "markdown",
   "id": "ad04fdb0",
   "metadata": {
    "papermill": {
     "duration": 0.046447,
     "end_time": "2022-04-18T04:33:33.753495",
     "exception": false,
     "start_time": "2022-04-18T04:33:33.707048",
     "status": "completed"
    },
    "tags": []
   },
   "source": [
    "### MODEL DATA SPLITTING"
   ]
  },
  {
   "cell_type": "code",
   "execution_count": 55,
   "id": "9fd54bd0",
   "metadata": {
    "execution": {
     "iopub.execute_input": "2022-04-18T04:33:33.848531Z",
     "iopub.status.busy": "2022-04-18T04:33:33.847949Z",
     "iopub.status.idle": "2022-04-18T04:33:34.701952Z",
     "shell.execute_reply": "2022-04-18T04:33:34.701154Z"
    },
    "papermill": {
     "duration": 0.905026,
     "end_time": "2022-04-18T04:33:34.704383",
     "exception": false,
     "start_time": "2022-04-18T04:33:33.799357",
     "status": "completed"
    },
    "tags": []
   },
   "outputs": [],
   "source": [
    "from sklearn.model_selection import train_test_split\n",
    "X_train, X_test, y_train, y_test = train_test_split(X, y, test_size = 0.3, random_state = 0)"
   ]
  },
  {
   "cell_type": "markdown",
   "id": "e1d9f8f2",
   "metadata": {
    "papermill": {
     "duration": 0.04683,
     "end_time": "2022-04-18T04:33:34.797842",
     "exception": false,
     "start_time": "2022-04-18T04:33:34.751012",
     "status": "completed"
    },
    "tags": []
   },
   "source": [
    "### LOGISTIC REGRESSION"
   ]
  },
  {
   "cell_type": "code",
   "execution_count": 56,
   "id": "4ed312b5",
   "metadata": {
    "execution": {
     "iopub.execute_input": "2022-04-18T04:33:34.894264Z",
     "iopub.status.busy": "2022-04-18T04:33:34.893755Z",
     "iopub.status.idle": "2022-04-18T04:33:46.209216Z",
     "shell.execute_reply": "2022-04-18T04:33:46.208070Z"
    },
    "papermill": {
     "duration": 11.367735,
     "end_time": "2022-04-18T04:33:46.212890",
     "exception": false,
     "start_time": "2022-04-18T04:33:34.845155",
     "status": "completed"
    },
    "tags": []
   },
   "outputs": [],
   "source": [
    "# LOGISTIC REGRESSION\n",
    "from sklearn.linear_model import LogisticRegression\n",
    "\n",
    "# Logistic Regression Model \n",
    "log = LogisticRegression(random_state = 0)\n",
    "\n",
    "# Fitting data\n",
    "log.fit(X_train, y_train)\n",
    "\n",
    "# Predicting the data\n",
    "log_pred = log.predict(X_test)"
   ]
  },
  {
   "cell_type": "markdown",
   "id": "fe5e767a",
   "metadata": {
    "papermill": {
     "duration": 0.058531,
     "end_time": "2022-04-18T04:33:46.361606",
     "exception": false,
     "start_time": "2022-04-18T04:33:46.303075",
     "status": "completed"
    },
    "tags": []
   },
   "source": [
    "### MODEL EVALUATION"
   ]
  },
  {
   "cell_type": "markdown",
   "id": "f87d270a",
   "metadata": {},
   "source": [
    "### Accuracy"
   ]
  },
  {
   "cell_type": "code",
   "execution_count": 57,
   "id": "94f544f9",
   "metadata": {
    "execution": {
     "iopub.execute_input": "2022-04-18T04:33:46.458687Z",
     "iopub.status.busy": "2022-04-18T04:33:46.458352Z",
     "iopub.status.idle": "2022-04-18T04:33:46.466046Z",
     "shell.execute_reply": "2022-04-18T04:33:46.464945Z"
    },
    "papermill": {
     "duration": 0.061414,
     "end_time": "2022-04-18T04:33:46.468917",
     "exception": false,
     "start_time": "2022-04-18T04:33:46.407503",
     "status": "completed"
    },
    "tags": []
   },
   "outputs": [
    {
     "name": "stdout",
     "output_type": "stream",
     "text": [
      "\n",
      "ACCURACY :  0.8069176882661997\n"
     ]
    }
   ],
   "source": [
    "# MODEL EVALUATION FOR LOGISTIC REGRESSION\n",
    "\n",
    "from sklearn.metrics import accuracy_score, classification_report, confusion_matrix\n",
    "\n",
    "# Accuracy\n",
    "acc = accuracy_score(y_test,log_pred)\n",
    "print(\"\\nACCURACY : \",acc)"
   ]
  },
  {
   "cell_type": "markdown",
   "id": "a0da75a8",
   "metadata": {},
   "source": [
    "### Classification Report"
   ]
  },
  {
   "cell_type": "code",
   "execution_count": 58,
   "id": "39361a4c",
   "metadata": {
    "execution": {
     "iopub.execute_input": "2022-04-18T04:37:12.628724Z",
     "iopub.status.busy": "2022-04-18T04:37:12.628306Z",
     "iopub.status.idle": "2022-04-18T04:37:12.641920Z",
     "shell.execute_reply": "2022-04-18T04:37:12.641068Z"
    },
    "papermill": {
     "duration": 0.065049,
     "end_time": "2022-04-18T04:37:12.644452",
     "exception": false,
     "start_time": "2022-04-18T04:37:12.579403",
     "status": "completed"
    },
    "tags": []
   },
   "outputs": [
    {
     "name": "stdout",
     "output_type": "stream",
     "text": [
      "\n",
      "CLASSIFICATION REPORT:\n",
      "               precision    recall  f1-score   support\n",
      "\n",
      "           0       0.81      0.88      0.84      1338\n",
      "           1       0.81      0.70      0.75       946\n",
      "\n",
      "    accuracy                           0.81      2284\n",
      "   macro avg       0.81      0.79      0.80      2284\n",
      "weighted avg       0.81      0.81      0.80      2284\n",
      "\n"
     ]
    }
   ],
   "source": [
    "# Classification Report\n",
    "clf_report = classification_report(y_test,log_pred)\n",
    "print(\"\\nCLASSIFICATION REPORT:\\n\", clf_report)"
   ]
  },
  {
   "cell_type": "markdown",
   "id": "133ba9b9",
   "metadata": {},
   "source": [
    "### Confusion Matrix"
   ]
  },
  {
   "cell_type": "code",
   "execution_count": 59,
   "id": "f4c7d0e3",
   "metadata": {
    "execution": {
     "iopub.execute_input": "2022-04-18T04:37:12.739408Z",
     "iopub.status.busy": "2022-04-18T04:37:12.738557Z",
     "iopub.status.idle": "2022-04-18T04:37:12.934081Z",
     "shell.execute_reply": "2022-04-18T04:37:12.933131Z"
    },
    "papermill": {
     "duration": 0.245586,
     "end_time": "2022-04-18T04:37:12.936351",
     "exception": false,
     "start_time": "2022-04-18T04:37:12.690765",
     "status": "completed"
    },
    "tags": []
   },
   "outputs": [
    {
     "name": "stdout",
     "output_type": "stream",
     "text": [
      "\n",
      "CONFUSION MATRIX:\n"
     ]
    },
    {
     "data": {
      "image/png": "[encoded data removed]",
      "text/plain": [
       "<Figure size 432x288 with 2 Axes>"
      ]
     },
     "metadata": {
      "needs_background": "light"
     },
     "output_type": "display_data"
    }
   ],
   "source": [
    "# Confusion Matrix\n",
    "print(\"\\nCONFUSION MATRIX:\")\n",
    "sns.heatmap(confusion_matrix(y_test,log_pred),annot=True,fmt='g', cmap=\"RdYlGn_r\")\n",
    "plt.show()"
   ]
  }
 ],
 "metadata": {
  "kernelspec": {
   "display_name": "Python 3",
   "language": "python",
   "name": "python3"
  },
  "language_info": {
   "codemirror_mode": {
    "name": "ipython",
    "version": 3
   },
   "file_extension": ".py",
   "mimetype": "text/x-python",
   "name": "python",
   "nbconvert_exporter": "python",
   "pygments_lexer": "ipython3",
   "version": "3.8.8"
  },
  "papermill": {
   "default_parameters": {},
   "duration": 243.183523,
   "end_time": "2022-04-18T04:37:15.325427",
   "environment_variables": {},
   "exception": null,
   "input_path": "__notebook__.ipynb",
   "output_path": "__notebook__.ipynb",
   "parameters": {},
   "start_time": "2022-04-18T04:33:12.141904",
   "version": "2.3.4"
  }
 },
 "nbformat": 4,
 "nbformat_minor": 5
}
